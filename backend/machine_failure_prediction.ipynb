{
  "cells": [
    {
      "cell_type": "markdown",
      "metadata": {
        "id": "jFn4ORI_-Jsm"
      },
      "source": [
        "# Machine Failure Prediction\n",
        "\n",
        "> Indented block\n",
        "\n"
      ]
    },
    {
      "cell_type": "markdown",
      "metadata": {
        "id": "ApM5Segh-Jsr"
      },
      "source": [
        "## Importing Libraries and Data"
      ]
    },
    {
      "cell_type": "code",
      "execution_count": 1,
      "metadata": {
        "_cell_guid": "b1076dfc-b9ad-4769-8c92-a6c4dae69d19",
        "_uuid": "8f2839f25d086af736a60e9eeb907d3b93b6e0e5",
        "execution": {
          "iopub.execute_input": "2024-01-12T18:24:33.537516Z",
          "iopub.status.busy": "2024-01-12T18:24:33.537156Z",
          "iopub.status.idle": "2024-01-12T18:24:33.546471Z",
          "shell.execute_reply": "2024-01-12T18:24:33.545301Z",
          "shell.execute_reply.started": "2024-01-12T18:24:33.537473Z"
        },
        "id": "xeUiddsh-Jss",
        "trusted": true
      },
      "outputs": [],
      "source": [
        "import pandas as pd\n",
        "from sklearn.neighbors import KNeighborsClassifier\n",
        "import seaborn as sns\n",
        "import matplotlib.pyplot as plt\n",
        "from sklearn.preprocessing import LabelEncoder\n",
        "from sklearn.model_selection import train_test_split\n",
        "from frontend.modelling import Modelling\n",
        "sns.set_style(\"darkgrid\")"
      ]
    },
    {
      "cell_type": "code",
      "execution_count": 2,
      "metadata": {
        "execution": {
          "iopub.execute_input": "2024-01-12T18:24:33.549754Z",
          "iopub.status.busy": "2024-01-12T18:24:33.548796Z",
          "iopub.status.idle": "2024-01-12T18:24:33.579063Z",
          "shell.execute_reply": "2024-01-12T18:24:33.578335Z",
          "shell.execute_reply.started": "2024-01-12T18:24:33.549705Z"
        },
        "id": "BDvkbhl0-Jst",
        "trusted": true
      },
      "outputs": [],
      "source": [
        "data = pd.read_csv('machine_failure_prediction.csv')"
      ]
    },
    {
      "cell_type": "code",
      "execution_count": 3,
      "metadata": {
        "colab": {
          "base_uri": "https://localhost:8080/",
          "height": 347
        },
        "execution": {
          "iopub.execute_input": "2024-01-12T18:24:33.580795Z",
          "iopub.status.busy": "2024-01-12T18:24:33.580139Z",
          "iopub.status.idle": "2024-01-12T18:24:33.596525Z",
          "shell.execute_reply": "2024-01-12T18:24:33.595832Z",
          "shell.execute_reply.started": "2024-01-12T18:24:33.580757Z"
        },
        "id": "W0EzxEnJ-Jsu",
        "outputId": "5e0a7b61-8fd5-483c-bab5-17f3dbc06860",
        "trusted": true
      },
      "outputs": [
        {
          "data": {
            "text/html": [
              "<div>\n",
              "<style scoped>\n",
              "    .dataframe tbody tr th:only-of-type {\n",
              "        vertical-align: middle;\n",
              "    }\n",
              "\n",
              "    .dataframe tbody tr th {\n",
              "        vertical-align: top;\n",
              "    }\n",
              "\n",
              "    .dataframe thead th {\n",
              "        text-align: right;\n",
              "    }\n",
              "</style>\n",
              "<table border=\"1\" class=\"dataframe\">\n",
              "  <thead>\n",
              "    <tr style=\"text-align: right;\">\n",
              "      <th></th>\n",
              "      <th>UDI</th>\n",
              "      <th>Product ID</th>\n",
              "      <th>Type</th>\n",
              "      <th>Air temperature [K]</th>\n",
              "      <th>Process temperature [K]</th>\n",
              "      <th>Rotational speed [rpm]</th>\n",
              "      <th>Torque [Nm]</th>\n",
              "      <th>Tool wear [min]</th>\n",
              "      <th>Target</th>\n",
              "      <th>Failure Type</th>\n",
              "    </tr>\n",
              "  </thead>\n",
              "  <tbody>\n",
              "    <tr>\n",
              "      <th>0</th>\n",
              "      <td>1</td>\n",
              "      <td>M14860</td>\n",
              "      <td>M</td>\n",
              "      <td>298.1</td>\n",
              "      <td>308.6</td>\n",
              "      <td>1551</td>\n",
              "      <td>42.8</td>\n",
              "      <td>0</td>\n",
              "      <td>0</td>\n",
              "      <td>No Failure</td>\n",
              "    </tr>\n",
              "    <tr>\n",
              "      <th>1</th>\n",
              "      <td>2</td>\n",
              "      <td>L47181</td>\n",
              "      <td>L</td>\n",
              "      <td>298.2</td>\n",
              "      <td>308.7</td>\n",
              "      <td>1408</td>\n",
              "      <td>46.3</td>\n",
              "      <td>3</td>\n",
              "      <td>0</td>\n",
              "      <td>No Failure</td>\n",
              "    </tr>\n",
              "    <tr>\n",
              "      <th>2</th>\n",
              "      <td>3</td>\n",
              "      <td>L47182</td>\n",
              "      <td>L</td>\n",
              "      <td>298.1</td>\n",
              "      <td>308.5</td>\n",
              "      <td>1498</td>\n",
              "      <td>49.4</td>\n",
              "      <td>5</td>\n",
              "      <td>0</td>\n",
              "      <td>No Failure</td>\n",
              "    </tr>\n",
              "    <tr>\n",
              "      <th>3</th>\n",
              "      <td>4</td>\n",
              "      <td>L47183</td>\n",
              "      <td>L</td>\n",
              "      <td>298.2</td>\n",
              "      <td>308.6</td>\n",
              "      <td>1433</td>\n",
              "      <td>39.5</td>\n",
              "      <td>7</td>\n",
              "      <td>0</td>\n",
              "      <td>No Failure</td>\n",
              "    </tr>\n",
              "    <tr>\n",
              "      <th>4</th>\n",
              "      <td>5</td>\n",
              "      <td>L47184</td>\n",
              "      <td>L</td>\n",
              "      <td>298.2</td>\n",
              "      <td>308.7</td>\n",
              "      <td>1408</td>\n",
              "      <td>40.0</td>\n",
              "      <td>9</td>\n",
              "      <td>0</td>\n",
              "      <td>No Failure</td>\n",
              "    </tr>\n",
              "  </tbody>\n",
              "</table>\n",
              "</div>"
            ],
            "text/plain": [
              "   UDI Product ID Type  Air temperature [K]  Process temperature [K]  \\\n",
              "0    1     M14860    M                298.1                    308.6   \n",
              "1    2     L47181    L                298.2                    308.7   \n",
              "2    3     L47182    L                298.1                    308.5   \n",
              "3    4     L47183    L                298.2                    308.6   \n",
              "4    5     L47184    L                298.2                    308.7   \n",
              "\n",
              "   Rotational speed [rpm]  Torque [Nm]  Tool wear [min]  Target Failure Type  \n",
              "0                    1551         42.8                0       0   No Failure  \n",
              "1                    1408         46.3                3       0   No Failure  \n",
              "2                    1498         49.4                5       0   No Failure  \n",
              "3                    1433         39.5                7       0   No Failure  \n",
              "4                    1408         40.0                9       0   No Failure  "
            ]
          },
          "execution_count": 3,
          "metadata": {},
          "output_type": "execute_result"
        }
      ],
      "source": [
        "data.head()"
      ]
    },
    {
      "cell_type": "code",
      "execution_count": 4,
      "metadata": {
        "colab": {
          "base_uri": "https://localhost:8080/"
        },
        "execution": {
          "iopub.execute_input": "2024-01-12T18:24:33.599204Z",
          "iopub.status.busy": "2024-01-12T18:24:33.598940Z",
          "iopub.status.idle": "2024-01-12T18:24:33.621401Z",
          "shell.execute_reply": "2024-01-12T18:24:33.620448Z",
          "shell.execute_reply.started": "2024-01-12T18:24:33.599172Z"
        },
        "id": "mutiFG8O-Jsv",
        "outputId": "87258d80-4ee5-47c1-bdbf-a15de6eca00e",
        "trusted": true
      },
      "outputs": [
        {
          "name": "stdout",
          "output_type": "stream",
          "text": [
            "<class 'pandas.core.frame.DataFrame'>\n",
            "RangeIndex: 10000 entries, 0 to 9999\n",
            "Data columns (total 10 columns):\n",
            " #   Column                   Non-Null Count  Dtype  \n",
            "---  ------                   --------------  -----  \n",
            " 0   UDI                      10000 non-null  int64  \n",
            " 1   Product ID               10000 non-null  object \n",
            " 2   Type                     10000 non-null  object \n",
            " 3   Air temperature [K]      10000 non-null  float64\n",
            " 4   Process temperature [K]  10000 non-null  float64\n",
            " 5   Rotational speed [rpm]   10000 non-null  int64  \n",
            " 6   Torque [Nm]              10000 non-null  float64\n",
            " 7   Tool wear [min]          10000 non-null  int64  \n",
            " 8   Target                   10000 non-null  int64  \n",
            " 9   Failure Type             10000 non-null  object \n",
            "dtypes: float64(3), int64(4), object(3)\n",
            "memory usage: 781.4+ KB\n"
          ]
        }
      ],
      "source": [
        "data.info()"
      ]
    },
    {
      "cell_type": "markdown",
      "metadata": {
        "id": "diEfvaLi-Jsw"
      },
      "source": [
        "# Data Preprocessing"
      ]
    },
    {
      "cell_type": "markdown",
      "metadata": {
        "id": "XaeINIuH-Jsw"
      },
      "source": [
        "The UDI and Product ID column is not needed as it doesnt carry any useful information"
      ]
    },
    {
      "cell_type": "code",
      "execution_count": 5,
      "metadata": {
        "colab": {
          "base_uri": "https://localhost:8080/",
          "height": 230
        },
        "execution": {
          "iopub.execute_input": "2024-01-12T18:24:33.623653Z",
          "iopub.status.busy": "2024-01-12T18:24:33.623085Z",
          "iopub.status.idle": "2024-01-12T18:24:33.643300Z",
          "shell.execute_reply": "2024-01-12T18:24:33.642560Z",
          "shell.execute_reply.started": "2024-01-12T18:24:33.623581Z"
        },
        "id": "_0h7p5ni-Jsx",
        "outputId": "6298802d-a711-4adf-c266-02b8e6f348d7",
        "trusted": true
      },
      "outputs": [
        {
          "data": {
            "text/html": [
              "<div>\n",
              "<style scoped>\n",
              "    .dataframe tbody tr th:only-of-type {\n",
              "        vertical-align: middle;\n",
              "    }\n",
              "\n",
              "    .dataframe tbody tr th {\n",
              "        vertical-align: top;\n",
              "    }\n",
              "\n",
              "    .dataframe thead th {\n",
              "        text-align: right;\n",
              "    }\n",
              "</style>\n",
              "<table border=\"1\" class=\"dataframe\">\n",
              "  <thead>\n",
              "    <tr style=\"text-align: right;\">\n",
              "      <th></th>\n",
              "      <th>Type</th>\n",
              "      <th>Air temperature [K]</th>\n",
              "      <th>Process temperature [K]</th>\n",
              "      <th>Rotational speed [rpm]</th>\n",
              "      <th>Torque [Nm]</th>\n",
              "      <th>Tool wear [min]</th>\n",
              "      <th>Target</th>\n",
              "      <th>Failure Type</th>\n",
              "    </tr>\n",
              "  </thead>\n",
              "  <tbody>\n",
              "    <tr>\n",
              "      <th>0</th>\n",
              "      <td>M</td>\n",
              "      <td>298.1</td>\n",
              "      <td>308.6</td>\n",
              "      <td>1551</td>\n",
              "      <td>42.8</td>\n",
              "      <td>0</td>\n",
              "      <td>0</td>\n",
              "      <td>No Failure</td>\n",
              "    </tr>\n",
              "    <tr>\n",
              "      <th>1</th>\n",
              "      <td>L</td>\n",
              "      <td>298.2</td>\n",
              "      <td>308.7</td>\n",
              "      <td>1408</td>\n",
              "      <td>46.3</td>\n",
              "      <td>3</td>\n",
              "      <td>0</td>\n",
              "      <td>No Failure</td>\n",
              "    </tr>\n",
              "    <tr>\n",
              "      <th>2</th>\n",
              "      <td>L</td>\n",
              "      <td>298.1</td>\n",
              "      <td>308.5</td>\n",
              "      <td>1498</td>\n",
              "      <td>49.4</td>\n",
              "      <td>5</td>\n",
              "      <td>0</td>\n",
              "      <td>No Failure</td>\n",
              "    </tr>\n",
              "  </tbody>\n",
              "</table>\n",
              "</div>"
            ],
            "text/plain": [
              "  Type  Air temperature [K]  Process temperature [K]  Rotational speed [rpm]  \\\n",
              "0    M                298.1                    308.6                    1551   \n",
              "1    L                298.2                    308.7                    1408   \n",
              "2    L                298.1                    308.5                    1498   \n",
              "\n",
              "   Torque [Nm]  Tool wear [min]  Target Failure Type  \n",
              "0         42.8                0       0   No Failure  \n",
              "1         46.3                3       0   No Failure  \n",
              "2         49.4                5       0   No Failure  "
            ]
          },
          "execution_count": 5,
          "metadata": {},
          "output_type": "execute_result"
        }
      ],
      "source": [
        "data = data.drop([\"UDI\", 'Product ID'], axis=1)\n",
        "data.head(3)"
      ]
    },
    {
      "cell_type": "markdown",
      "metadata": {
        "id": "NKRHFNHs-Jsx"
      },
      "source": [
        "# EDA"
      ]
    },
    {
      "cell_type": "markdown",
      "metadata": {
        "id": "zs8jZzva-Jsx"
      },
      "source": [
        "# Data Visualisation"
      ]
    },
    {
      "cell_type": "code",
      "execution_count": 6,
      "metadata": {
        "colab": {
          "base_uri": "https://localhost:8080/",
          "height": 713
        },
        "execution": {
          "iopub.execute_input": "2024-01-12T18:24:33.645210Z",
          "iopub.status.busy": "2024-01-12T18:24:33.644730Z",
          "iopub.status.idle": "2024-01-12T18:24:33.898814Z",
          "shell.execute_reply": "2024-01-12T18:24:33.897716Z",
          "shell.execute_reply.started": "2024-01-12T18:24:33.645158Z"
        },
        "id": "8iXXZRgO-Jsy",
        "outputId": "1e530fd9-0772-435d-e298-4026221b437e",
        "trusted": true
      },
      "outputs": [
        {
          "data": {
            "text/plain": [
              "<Axes: xlabel='Target', ylabel='count'>"
            ]
          },
          "execution_count": 6,
          "metadata": {},
          "output_type": "execute_result"
        },
        {
          "data": {
            "image/png": "[encoded data removed]",
            "text/plain": [
              "<Figure size 1000x800 with 1 Axes>"
            ]
          },
          "metadata": {},
          "output_type": "display_data"
        }
      ],
      "source": [
        "plt.figure(figsize=(10, 8))\n",
        "sns.countplot(data=data, x=\"Target\")"
      ]
    },
    {
      "cell_type": "code",
      "execution_count": 7,
      "metadata": {
        "colab": {
          "base_uri": "https://localhost:8080/",
          "height": 482
        },
        "execution": {
          "iopub.execute_input": "2024-01-12T18:24:33.900385Z",
          "iopub.status.busy": "2024-01-12T18:24:33.900059Z",
          "iopub.status.idle": "2024-01-12T18:24:34.192001Z",
          "shell.execute_reply": "2024-01-12T18:24:34.190996Z",
          "shell.execute_reply.started": "2024-01-12T18:24:33.900349Z"
        },
        "id": "Bf9GuCnQ-Jsy",
        "outputId": "d96516da-875b-4243-b25e-6266b4ff5a07",
        "trusted": true
      },
      "outputs": [
        {
          "data": {
            "text/plain": [
              "<Axes: xlabel='Failure Type', ylabel='count'>"
            ]
          },
          "execution_count": 7,
          "metadata": {},
          "output_type": "execute_result"
        },
        {
          "data": {
            "image/png": "[encoded data removed]",
            "text/plain": [
              "<Figure size 1000x500 with 1 Axes>"
            ]
          },
          "metadata": {},
          "output_type": "display_data"
        }
      ],
      "source": [
        "plt.figure(figsize=(10, 5))\n",
        "sns.countplot(data=data[data['Target'] == 1], x=\"Failure Type\")"
      ]
    },
    {
      "cell_type": "code",
      "execution_count": 8,
      "metadata": {
        "execution": {
          "iopub.execute_input": "2024-01-12T18:24:34.204261Z",
          "iopub.status.busy": "2024-01-12T18:24:34.203974Z",
          "iopub.status.idle": "2024-01-12T18:24:34.217550Z",
          "shell.execute_reply": "2024-01-12T18:24:34.216309Z",
          "shell.execute_reply.started": "2024-01-12T18:24:34.204228Z"
        },
        "id": "AxawTFUV-Jsz",
        "trusted": true
      },
      "outputs": [],
      "source": [
        "data['nf'] = data['Tool wear [min]'] * data['Torque [Nm]']"
      ]
    },
    {
      "cell_type": "markdown",
      "metadata": {
        "id": "OcbbkS4R-Jsz"
      },
      "source": [
        "# Pre Processing for Prediction"
      ]
    },
    {
      "cell_type": "markdown",
      "metadata": {
        "id": "ImSZ8reu-Jsz"
      },
      "source": [
        "## Encoding"
      ]
    },
    {
      "cell_type": "code",
      "execution_count": 9,
      "metadata": {
        "execution": {
          "iopub.execute_input": "2024-01-12T18:24:34.219292Z",
          "iopub.status.busy": "2024-01-12T18:24:34.218864Z",
          "iopub.status.idle": "2024-01-12T18:24:34.235778Z",
          "shell.execute_reply": "2024-01-12T18:24:34.234835Z",
          "shell.execute_reply.started": "2024-01-12T18:24:34.219254Z"
        },
        "id": "h6NGFm_J-Jsz",
        "trusted": true
      },
      "outputs": [],
      "source": [
        "label_encoder = LabelEncoder()\n",
        "\n",
        "label_encoder.fit(data['Type'])\n",
        "data['Type'] = label_encoder.transform(data['Type'])"
      ]
    },
    {
      "cell_type": "code",
      "execution_count": 10,
      "metadata": {
        "colab": {
          "base_uri": "https://localhost:8080/",
          "height": 327
        },
        "execution": {
          "iopub.execute_input": "2024-01-12T18:24:34.237242Z",
          "iopub.status.busy": "2024-01-12T18:24:34.236967Z",
          "iopub.status.idle": "2024-01-12T18:24:34.258126Z",
          "shell.execute_reply": "2024-01-12T18:24:34.257199Z",
          "shell.execute_reply.started": "2024-01-12T18:24:34.237207Z"
        },
        "id": "xPAucpCs-Jsz",
        "outputId": "70b1df99-8d3d-44ff-f740-41c7439a5f10",
        "trusted": true
      },
      "outputs": [
        {
          "data": {
            "text/html": [
              "<div>\n",
              "<style scoped>\n",
              "    .dataframe tbody tr th:only-of-type {\n",
              "        vertical-align: middle;\n",
              "    }\n",
              "\n",
              "    .dataframe tbody tr th {\n",
              "        vertical-align: top;\n",
              "    }\n",
              "\n",
              "    .dataframe thead th {\n",
              "        text-align: right;\n",
              "    }\n",
              "</style>\n",
              "<table border=\"1\" class=\"dataframe\">\n",
              "  <thead>\n",
              "    <tr style=\"text-align: right;\">\n",
              "      <th></th>\n",
              "      <th>Type</th>\n",
              "      <th>Air temperature [K]</th>\n",
              "      <th>Process temperature [K]</th>\n",
              "      <th>Rotational speed [rpm]</th>\n",
              "      <th>Torque [Nm]</th>\n",
              "      <th>Tool wear [min]</th>\n",
              "      <th>Target</th>\n",
              "      <th>Failure Type</th>\n",
              "      <th>nf</th>\n",
              "    </tr>\n",
              "  </thead>\n",
              "  <tbody>\n",
              "    <tr>\n",
              "      <th>9995</th>\n",
              "      <td>2</td>\n",
              "      <td>298.8</td>\n",
              "      <td>308.4</td>\n",
              "      <td>1604</td>\n",
              "      <td>29.5</td>\n",
              "      <td>14</td>\n",
              "      <td>0</td>\n",
              "      <td>No Failure</td>\n",
              "      <td>413.0</td>\n",
              "    </tr>\n",
              "    <tr>\n",
              "      <th>9996</th>\n",
              "      <td>0</td>\n",
              "      <td>298.9</td>\n",
              "      <td>308.4</td>\n",
              "      <td>1632</td>\n",
              "      <td>31.8</td>\n",
              "      <td>17</td>\n",
              "      <td>0</td>\n",
              "      <td>No Failure</td>\n",
              "      <td>540.6</td>\n",
              "    </tr>\n",
              "    <tr>\n",
              "      <th>9997</th>\n",
              "      <td>2</td>\n",
              "      <td>299.0</td>\n",
              "      <td>308.6</td>\n",
              "      <td>1645</td>\n",
              "      <td>33.4</td>\n",
              "      <td>22</td>\n",
              "      <td>0</td>\n",
              "      <td>No Failure</td>\n",
              "      <td>734.8</td>\n",
              "    </tr>\n",
              "    <tr>\n",
              "      <th>9998</th>\n",
              "      <td>0</td>\n",
              "      <td>299.0</td>\n",
              "      <td>308.7</td>\n",
              "      <td>1408</td>\n",
              "      <td>48.5</td>\n",
              "      <td>25</td>\n",
              "      <td>0</td>\n",
              "      <td>No Failure</td>\n",
              "      <td>1212.5</td>\n",
              "    </tr>\n",
              "    <tr>\n",
              "      <th>9999</th>\n",
              "      <td>2</td>\n",
              "      <td>299.0</td>\n",
              "      <td>308.7</td>\n",
              "      <td>1500</td>\n",
              "      <td>40.2</td>\n",
              "      <td>30</td>\n",
              "      <td>0</td>\n",
              "      <td>No Failure</td>\n",
              "      <td>1206.0</td>\n",
              "    </tr>\n",
              "  </tbody>\n",
              "</table>\n",
              "</div>"
            ],
            "text/plain": [
              "      Type  Air temperature [K]  Process temperature [K]  \\\n",
              "9995     2                298.8                    308.4   \n",
              "9996     0                298.9                    308.4   \n",
              "9997     2                299.0                    308.6   \n",
              "9998     0                299.0                    308.7   \n",
              "9999     2                299.0                    308.7   \n",
              "\n",
              "      Rotational speed [rpm]  Torque [Nm]  Tool wear [min]  Target  \\\n",
              "9995                    1604         29.5               14       0   \n",
              "9996                    1632         31.8               17       0   \n",
              "9997                    1645         33.4               22       0   \n",
              "9998                    1408         48.5               25       0   \n",
              "9999                    1500         40.2               30       0   \n",
              "\n",
              "     Failure Type      nf  \n",
              "9995   No Failure   413.0  \n",
              "9996   No Failure   540.6  \n",
              "9997   No Failure   734.8  \n",
              "9998   No Failure  1212.5  \n",
              "9999   No Failure  1206.0  "
            ]
          },
          "execution_count": 10,
          "metadata": {},
          "output_type": "execute_result"
        }
      ],
      "source": [
        "data.tail()"
      ]
    },
    {
      "cell_type": "markdown",
      "metadata": {
        "execution": {
          "iopub.execute_input": "2022-02-11T05:30:37.628037Z",
          "iopub.status.busy": "2022-02-11T05:30:37.626914Z",
          "iopub.status.idle": "2022-02-11T05:30:37.635891Z",
          "shell.execute_reply": "2022-02-11T05:30:37.635111Z",
          "shell.execute_reply.started": "2022-02-11T05:30:37.627979Z"
        },
        "id": "ozBCMMbg-Js0"
      },
      "source": [
        "data = data.rename(columns = {'Air temperature [K]':'airtemp',\n",
        "                      'Process temperature [K]':'processtemp',\n",
        "                      'Rotational speed [rpm]':'rpm',\n",
        "                      'Torque [Nm]':'torque',\n",
        "                      'Tool wear [min]':'toolwear'})"
      ]
    },
    {
      "cell_type": "markdown",
      "metadata": {
        "id": "qsd0jRB3-Js0"
      },
      "source": [
        "## Test Tain Split"
      ]
    },
    {
      "cell_type": "code",
      "execution_count": 22,
      "metadata": {
        "execution": {
          "iopub.execute_input": "2024-01-12T18:24:34.264680Z",
          "iopub.status.busy": "2024-01-12T18:24:34.264392Z",
          "iopub.status.idle": "2024-01-12T18:24:34.278942Z",
          "shell.execute_reply": "2024-01-12T18:24:34.278059Z",
          "shell.execute_reply.started": "2024-01-12T18:24:34.264642Z"
        },
        "id": "g4dOcHC0-Js0",
        "trusted": true
      },
      "outputs": [],
      "source": [
        "X = data.drop(['Failure Type', 'Target'], axis=1)\n",
        "y = data['Target']\n",
        "\n",
        "X_train, X_test, y_train, y_test = train_test_split(X, y, test_size=0.3, random_state=42)"
      ]
    },
    {
      "cell_type": "markdown",
      "metadata": {
        "id": "int3GROt-Js0"
      },
      "source": [
        "## Prediction"
      ]
    },
    {
      "cell_type": "code",
      "execution_count": 12,
      "metadata": {
        "_kg_hide-input": true,
        "colab": {
          "base_uri": "https://localhost:8080/"
        },
        "execution": {
          "iopub.execute_input": "2024-01-12T18:24:34.280824Z",
          "iopub.status.busy": "2024-01-12T18:24:34.280371Z",
          "iopub.status.idle": "2024-01-12T18:24:34.289369Z",
          "shell.execute_reply": "2024-01-12T18:24:34.288378Z",
          "shell.execute_reply.started": "2024-01-12T18:24:34.280788Z"
        },
        "id": "KERj7--p-Js0",
        "outputId": "c5afa780-0213-4ef9-bdcd-82c0c5b4e4f9",
        "trusted": true
      },
      "outputs": [
        {
          "name": "stdout",
          "output_type": "stream",
          "text": [
            "All Models Imported\n",
            "Models stored in dataframe called classifiers\n"
          ]
        }
      ],
      "source": [
        "classifier = []\n",
        "imported_as = []\n",
        "knn = KNeighborsClassifier(n_neighbors=1)\n",
        "classifier.append('k Nearest Neighbours')\n",
        "imported_as.append('knn')\n",
        "print('All Models Imported\\nModels stored in dataframe called classifiers')"
      ]
    },
    {
      "cell_type": "code",
      "execution_count": 13,
      "metadata": {
        "colab": {
          "base_uri": "https://localhost:8080/"
        },
        "execution": {
          "iopub.execute_input": "2024-01-12T18:24:34.327540Z",
          "iopub.status.busy": "2024-01-12T18:24:34.327253Z",
          "iopub.status.idle": "2024-01-12T18:24:34.343875Z",
          "shell.execute_reply": "2024-01-12T18:24:34.342865Z",
          "shell.execute_reply.started": "2024-01-12T18:24:34.327503Z"
        },
        "id": "3VnlA9eM-Js1",
        "outputId": "122e8b75-43dd-41c1-c927-6425eadecc5a",
        "trusted": true
      },
      "outputs": [
        {
          "name": "stdout",
          "output_type": "stream",
          "text": [
            "<class 'pandas.core.frame.DataFrame'>\n",
            "Index: 7000 entries, 9069 to 7270\n",
            "Data columns (total 7 columns):\n",
            " #   Column                   Non-Null Count  Dtype  \n",
            "---  ------                   --------------  -----  \n",
            " 0   Type                     7000 non-null   int64  \n",
            " 1   Air temperature [K]      7000 non-null   float64\n",
            " 2   Process temperature [K]  7000 non-null   float64\n",
            " 3   Rotational speed [rpm]   7000 non-null   int64  \n",
            " 4   Torque [Nm]              7000 non-null   float64\n",
            " 5   Tool wear [min]          7000 non-null   int64  \n",
            " 6   nf                       7000 non-null   float64\n",
            "dtypes: float64(4), int64(3)\n",
            "memory usage: 437.5 KB\n"
          ]
        }
      ],
      "source": [
        "X_train.info()"
      ]
    },
    {
      "cell_type": "code",
      "execution_count": 18,
      "metadata": {
        "colab": {
          "base_uri": "https://localhost:8080/"
        },
        "execution": {
          "iopub.execute_input": "2024-01-12T18:24:34.346532Z",
          "iopub.status.busy": "2024-01-12T18:24:34.345599Z",
          "iopub.status.idle": "2024-01-12T18:24:42.120337Z",
          "shell.execute_reply": "2024-01-12T18:24:42.119405Z",
          "shell.execute_reply.started": "2024-01-12T18:24:34.346480Z"
        },
        "id": "alohkvH7-Js1",
        "outputId": "8cba2ab1-2d85-4ed8-f67c-983ad19239ac",
        "trusted": true
      },
      "outputs": [
        {
          "name": "stdout",
          "output_type": "stream",
          "text": [
            "KNeighborsClassifier(n_neighbors=1) has been fit\n"
          ]
        }
      ],
      "source": [
        "classification = Modelling(X_train, y_train, X_test, y_test, [knn])\n",
        "classification.fit()"
      ]
    },
    {
      "cell_type": "code",
      "execution_count": 19,
      "metadata": {
        "colab": {
          "base_uri": "https://localhost:8080/",
          "height": 81
        },
        "execution": {
          "iopub.execute_input": "2024-01-12T18:24:42.122945Z",
          "iopub.status.busy": "2024-01-12T18:24:42.122280Z",
          "iopub.status.idle": "2024-01-12T18:24:42.152951Z",
          "shell.execute_reply": "2024-01-12T18:24:42.151967Z",
          "shell.execute_reply.started": "2024-01-12T18:24:42.122894Z"
        },
        "id": "q1IBWtzm-Js1",
        "outputId": "c532174e-1f93-416f-f6a0-c0331bb5d6fc",
        "trusted": true
      },
      "outputs": [
        {
          "data": {
            "text/html": [
              "<div>\n",
              "<style scoped>\n",
              "    .dataframe tbody tr th:only-of-type {\n",
              "        vertical-align: middle;\n",
              "    }\n",
              "\n",
              "    .dataframe tbody tr th {\n",
              "        vertical-align: top;\n",
              "    }\n",
              "\n",
              "    .dataframe thead th {\n",
              "        text-align: right;\n",
              "    }\n",
              "</style>\n",
              "<table border=\"1\" class=\"dataframe\">\n",
              "  <thead>\n",
              "    <tr style=\"text-align: right;\">\n",
              "      <th></th>\n",
              "      <th>Models</th>\n",
              "      <th>Accuracy</th>\n",
              "      <th>Runtime (s)</th>\n",
              "    </tr>\n",
              "  </thead>\n",
              "  <tbody>\n",
              "    <tr>\n",
              "      <th>0</th>\n",
              "      <td>KNeighborsClassifier(n_neighbors=1)</td>\n",
              "      <td>0.960667</td>\n",
              "      <td>0.17639</td>\n",
              "    </tr>\n",
              "  </tbody>\n",
              "</table>\n",
              "</div>"
            ],
            "text/plain": [
              "                                Models  Accuracy  Runtime (s)\n",
              "0  KNeighborsClassifier(n_neighbors=1)  0.960667      0.17639"
            ]
          },
          "execution_count": 19,
          "metadata": {},
          "output_type": "execute_result"
        }
      ],
      "source": [
        "classification.results()"
      ]
    },
    {
      "cell_type": "code",
      "execution_count": 20,
      "metadata": {
        "colab": {
          "base_uri": "https://localhost:8080/"
        },
        "execution": {
          "iopub.execute_input": "2024-01-12T18:24:42.154422Z",
          "iopub.status.busy": "2024-01-12T18:24:42.154160Z",
          "iopub.status.idle": "2024-01-12T18:24:42.214542Z",
          "shell.execute_reply": "2024-01-12T18:24:42.213583Z",
          "shell.execute_reply.started": "2024-01-12T18:24:42.154392Z"
        },
        "id": "GbiHsR1v-Js2",
        "outputId": "831e4c9c-8e40-4053-f85e-b00525b49411",
        "trusted": true
      },
      "outputs": [
        {
          "name": "stdout",
          "output_type": "stream",
          "text": [
            "Accuracy of model: 0.9606666666666667\n",
            "Training Runtime in seconds 0.176\n"
          ]
        }
      ],
      "source": [
        "print('Accuracy of model:', classification.best_model_accuracy())\n",
        "print('Training Runtime in seconds', classification.best_model_runtime())"
      ]
    },
    {
      "cell_type": "markdown",
      "metadata": {},
      "source": [
        "# MACHINE AND DATASET TESTING"
      ]
    },
    {
      "cell_type": "code",
      "execution_count": null,
      "metadata": {},
      "outputs": [],
      "source": [
        "def get_test_size():\n",
        "    while True:\n",
        "        try:\n",
        "            test_size = float(input(\"Enter the percentage of data to use for testing (e.g., 10 for 10%): \")) / 100\n",
        "            if 0 < test_size < 1 < 100:\n",
        "                return test_size\n",
        "            else:\n",
        "                print(\"Please enter a valid percentage between 0 and 100.\")\n",
        "        except ValueError:\n",
        "            print(\"Please enter a valid number.\")\n",
        "\n",
        "def predict_failure(classifier, label_encoder):\n",
        "    print(\"\\nAll Models have trained.\\nPress 1 to predict new machine failure type or\\nPress 2 to test the certain percentage of data.\\nEnter any other key to exit the menu.\")\n",
        "    choice = input(\"Enter your choice: \").strip()\n",
        "    \n",
        "    if choice == \"1\":\n",
        "        print(\"\\nEnter the details of the new machine to predict its failure type:\")\n",
        "        air_temp = float(input(\"Air temperature [K]: \"))\n",
        "        process_temp = float(input(\"Process temperature [K]: \"))\n",
        "        rotational_speed = float(input(\"Rotational speed [rpm]: \"))\n",
        "        torque = float(input(\"Torque [Nm]: \"))\n",
        "        tool_wear = float(input(\"Tool wear [min]: \"))\n",
        "        machine_type = input(\"Machine Type (L, M, H): \")\n",
        "\n",
        "        new_data = pd.DataFrame({\n",
        "            'Type': [machine_type],\n",
        "            'Air temperature [K]': [air_temp],\n",
        "            'Process temperature [K]': [process_temp],\n",
        "            'Rotational speed [rpm]': [rotational_speed],\n",
        "            'Torque [Nm]': [torque],\n",
        "            'Tool wear [min]': [tool_wear],\n",
        "        })\n",
        "\n",
        "        new_data['Type'] = label_encoder.transform(new_data['Type'])\n",
        "\n",
        "        new_data['nf'] = new_data['Tool wear [min]'] * new_data['Torque [Nm]']\n",
        "\n",
        "        prediction = classifier.predict(new_data)\n",
        "\n",
        "        if prediction[0] == 1:\n",
        "            print(\"\\nPredicted Failure Type: Failure\")\n",
        "        else:\n",
        "            print(\"\\nPredicted Failure Type: Non-failure\")\n",
        "    elif choice == \"2\":\n",
        "        test_size = get_test_size()\n",
        "        X_train, X_test, y_train, y_test = train_test_split(X, y, test_size=test_size, random_state=42)\n",
        "        classification = Modelling(X_train, y_train, X_test, y_test, [knn])\n",
        "        classification.fit()\n",
        "        classification.results()\n",
        "        print('Accuracy of model:', classification.best_model_accuracy())\n",
        "        print('Training Runtime in seconds', classification.best_model_runtime())\n",
        "    else: \n",
        "        print(\"Exiting without testing a new machine.\")\n",
        "\n",
        "predict_failure(knn, label_encoder)"
      ]
    }
  ],
  "metadata": {
    "colab": {
      "provenance": []
    },
    "kaggle": {
      "accelerator": "none",
      "dataSources": [
        {
          "datasetId": 1697740,
          "sourceId": 2781015,
          "sourceType": "datasetVersion"
        }
      ],
      "dockerImageVersionId": 30145,
      "isGpuEnabled": false,
      "isInternetEnabled": false,
      "language": "python",
      "sourceType": "notebook"
    },
    "kernelspec": {
      "display_name": "Python 3",
      "language": "python",
      "name": "python3"
    },
    "language_info": {
      "codemirror_mode": {
        "name": "ipython",
        "version": 3
      },
      "file_extension": ".py",
      "mimetype": "text/x-python",
      "name": "python",
      "nbconvert_exporter": "python",
      "pygments_lexer": "ipython3",
      "version": "3.10.12"
    }
  },
  "nbformat": 4,
  "nbformat_minor": 0
}
